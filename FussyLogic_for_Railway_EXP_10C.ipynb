{
  "nbformat": 4,
  "nbformat_minor": 0,
  "metadata": {
    "colab": {
      "provenance": [],
      "authorship_tag": "ABX9TyOoKKrNnKKCLoaBtwIjfWWy",
      "include_colab_link": true
    },
    "kernelspec": {
      "name": "python3",
      "display_name": "Python 3"
    },
    "language_info": {
      "name": "python"
    }
  },
  "cells": [
    {
      "cell_type": "markdown",
      "metadata": {
        "id": "view-in-github",
        "colab_type": "text"
      },
      "source": [
        "<a href=\"https://colab.research.google.com/github/DeveshGund1403/Decision-Modeling-Experiment/blob/main/FussyLogic_for_Railway_EXP_10C.ipynb\" target=\"_parent\"><img src=\"https://colab.research.google.com/assets/colab-badge.svg\" alt=\"Open In Colab\"/></a>"
      ]
    },
    {
      "cell_type": "code",
      "source": [
        "!pip install scikit-fuzzy"
      ],
      "metadata": {
        "colab": {
          "base_uri": "https://localhost:8080/"
        },
        "id": "SX2DNEg9u7BR",
        "outputId": "9c78be8a-f743-45b3-d624-18e3e4d1a96d"
      },
      "execution_count": 1,
      "outputs": [
        {
          "output_type": "stream",
          "name": "stdout",
          "text": [
            "Collecting scikit-fuzzy\n",
            "  Downloading scikit-fuzzy-0.4.2.tar.gz (993 kB)\n",
            "\u001b[2K     \u001b[90m━━━━━━━━━━━━━━━━━━━━━━━━━━━━━━━━━━━━━━━━\u001b[0m \u001b[32m994.0/994.0 kB\u001b[0m \u001b[31m6.4 MB/s\u001b[0m eta \u001b[36m0:00:00\u001b[0m\n",
            "\u001b[?25h  Preparing metadata (setup.py) ... \u001b[?25l\u001b[?25hdone\n",
            "Requirement already satisfied: numpy>=1.6.0 in /usr/local/lib/python3.10/dist-packages (from scikit-fuzzy) (1.25.2)\n",
            "Requirement already satisfied: scipy>=0.9.0 in /usr/local/lib/python3.10/dist-packages (from scikit-fuzzy) (1.11.4)\n",
            "Requirement already satisfied: networkx>=1.9.0 in /usr/local/lib/python3.10/dist-packages (from scikit-fuzzy) (3.3)\n",
            "Building wheels for collected packages: scikit-fuzzy\n",
            "  Building wheel for scikit-fuzzy (setup.py) ... \u001b[?25l\u001b[?25hdone\n",
            "  Created wheel for scikit-fuzzy: filename=scikit_fuzzy-0.4.2-py3-none-any.whl size=894078 sha256=aa753b6a84d6ecbd8dc0e8b3f254279e574a861362a39318f9e32838f57e8db5\n",
            "  Stored in directory: /root/.cache/pip/wheels/4f/86/1b/dfd97134a2c8313e519bcebd95d3fedc7be7944db022094bc8\n",
            "Successfully built scikit-fuzzy\n",
            "Installing collected packages: scikit-fuzzy\n",
            "Successfully installed scikit-fuzzy-0.4.2\n"
          ]
        }
      ]
    },
    {
      "cell_type": "code",
      "execution_count": 2,
      "metadata": {
        "colab": {
          "base_uri": "https://localhost:8080/"
        },
        "id": "pe1illWGuu-m",
        "outputId": "adc6827c-62cf-4e3b-f804-8aa46bf2217f"
      },
      "outputs": [
        {
          "output_type": "stream",
          "name": "stdout",
          "text": [
            "Recommended Train Speed: 49.999999999999986\n"
          ]
        }
      ],
      "source": [
        "import numpy as np\n",
        "import skfuzzy as fuzz\n",
        "from skfuzzy import control as ctrl\n",
        "\n",
        "# Define input variables\n",
        "distance_to_station = ctrl.Antecedent(np.arange(0, 101, 1), 'distance_to_station')\n",
        "speed_limit = ctrl.Antecedent(np.arange(0, 101, 1), 'speed_limit')\n",
        "\n",
        "# Define output variable\n",
        "train_speed = ctrl.Consequent(np.arange(0, 101, 1), 'train_speed')\n",
        "\n",
        "# Define membership functions\n",
        "distance_to_station['close'] = fuzz.trimf(distance_to_station.universe, [0, 0, 50])\n",
        "distance_to_station['medium'] = fuzz.trimf(distance_to_station.universe, [0, 50, 100])\n",
        "distance_to_station['far'] = fuzz.trimf(distance_to_station.universe, [50, 100, 100])\n",
        "\n",
        "speed_limit['slow'] = fuzz.trimf(speed_limit.universe, [0, 0, 50])\n",
        "speed_limit['medium'] = fuzz.trimf(speed_limit.universe, [0, 50, 100])\n",
        "speed_limit['fast'] = fuzz.trimf(speed_limit.universe, [50, 100, 100])\n",
        "\n",
        "train_speed['slow'] = fuzz.trimf(train_speed.universe, [0, 0, 50])\n",
        "train_speed['medium'] = fuzz.trimf(train_speed.universe, [0, 50, 100])\n",
        "train_speed['fast'] = fuzz.trimf(train_speed.universe, [50, 100, 100])\n",
        "\n",
        "# Define fuzzy rules\n",
        "rule1 = ctrl.Rule(distance_to_station['close'], train_speed['slow'])\n",
        "rule2 = ctrl.Rule(distance_to_station['medium'] & speed_limit['medium'], train_speed['medium'])\n",
        "rule3 = ctrl.Rule(distance_to_station['far'] | speed_limit['fast'], train_speed['fast'])\n",
        "\n",
        "# Create control system\n",
        "train_ctrl = ctrl.ControlSystem([rule1, rule2, rule3])\n",
        "train_sim = ctrl.ControlSystemSimulation(train_ctrl)\n",
        "\n",
        "# Define inputs\n",
        "train_sim.input['distance_to_station'] = 30\n",
        "train_sim.input['speed_limit'] = 70\n",
        "\n",
        "# Compute the train speed\n",
        "train_sim.compute()\n",
        "\n",
        "# Print the result\n",
        "print(\"Recommended Train Speed:\", train_sim.output['train_speed'])"
      ]
    }
  ]
}