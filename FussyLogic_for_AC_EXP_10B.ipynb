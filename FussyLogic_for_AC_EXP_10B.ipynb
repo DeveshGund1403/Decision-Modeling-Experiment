{
  "nbformat": 4,
  "nbformat_minor": 0,
  "metadata": {
    "colab": {
      "provenance": [],
      "authorship_tag": "ABX9TyN3kKL5fHO3xPZIhnZo29jd",
      "include_colab_link": true
    },
    "kernelspec": {
      "name": "python3",
      "display_name": "Python 3"
    },
    "language_info": {
      "name": "python"
    }
  },
  "cells": [
    {
      "cell_type": "markdown",
      "metadata": {
        "id": "view-in-github",
        "colab_type": "text"
      },
      "source": [
        "<a href=\"https://colab.research.google.com/github/DeveshGund1403/Decision-Modeling-Experiment/blob/main/FussyLogic_for_AC_EXP_10B.ipynb\" target=\"_parent\"><img src=\"https://colab.research.google.com/assets/colab-badge.svg\" alt=\"Open In Colab\"/></a>"
      ]
    },
    {
      "cell_type": "code",
      "execution_count": 1,
      "metadata": {
        "id": "y0vYTaBIuAXa",
        "colab": {
          "base_uri": "https://localhost:8080/"
        },
        "outputId": "9ad99f4b-b082-43ea-8c3c-3c22738c674d"
      },
      "outputs": [
        {
          "output_type": "stream",
          "name": "stdout",
          "text": [
            "Collecting scikit-fuzzy\n",
            "  Downloading scikit-fuzzy-0.4.2.tar.gz (993 kB)\n",
            "\u001b[2K     \u001b[90m━━━━━━━━━━━━━━━━━━━━━━━━━━━━━━━━━━━━━━━━\u001b[0m \u001b[32m994.0/994.0 kB\u001b[0m \u001b[31m10.6 MB/s\u001b[0m eta \u001b[36m0:00:00\u001b[0m\n",
            "\u001b[?25h  Preparing metadata (setup.py) ... \u001b[?25l\u001b[?25hdone\n",
            "Requirement already satisfied: numpy>=1.6.0 in /usr/local/lib/python3.10/dist-packages (from scikit-fuzzy) (1.25.2)\n",
            "Requirement already satisfied: scipy>=0.9.0 in /usr/local/lib/python3.10/dist-packages (from scikit-fuzzy) (1.11.4)\n",
            "Requirement already satisfied: networkx>=1.9.0 in /usr/local/lib/python3.10/dist-packages (from scikit-fuzzy) (3.3)\n",
            "Building wheels for collected packages: scikit-fuzzy\n",
            "  Building wheel for scikit-fuzzy (setup.py) ... \u001b[?25l\u001b[?25hdone\n",
            "  Created wheel for scikit-fuzzy: filename=scikit_fuzzy-0.4.2-py3-none-any.whl size=894078 sha256=7c7977e2003af190d173ca0bdab3338cdfb7ddb94fb7a46de46af517ec487550\n",
            "  Stored in directory: /root/.cache/pip/wheels/4f/86/1b/dfd97134a2c8313e519bcebd95d3fedc7be7944db022094bc8\n",
            "Successfully built scikit-fuzzy\n",
            "Installing collected packages: scikit-fuzzy\n",
            "Successfully installed scikit-fuzzy-0.4.2\n",
            "Cooling Power: 45.78471421042893\n"
          ]
        }
      ],
      "source": [
        "!pip install scikit-fuzzy\n",
        "\n",
        "import numpy as np\n",
        "import skfuzzy as fuzz\n",
        "from skfuzzy import control as ctrl\n",
        "\n",
        "# Define input variables\n",
        "temperature = ctrl.Antecedent(np.arange(0, 101, 1), 'temperature')\n",
        "humidity = ctrl.Antecedent(np.arange(0, 101, 1), 'humidity')\n",
        "\n",
        "# Define output variable\n",
        "cooling_power = ctrl.Consequent(np.arange(0, 101, 1), 'cooling_power')\n",
        "\n",
        "# Define membership functions\n",
        "temperature['cold'] = fuzz.trimf(temperature.universe, [0, 0, 50])\n",
        "temperature['comfortable'] = fuzz.trimf(temperature.universe, [20, 50, 80])\n",
        "temperature['hot'] = fuzz.trimf(temperature.universe, [50, 100, 100])\n",
        "\n",
        "humidity['low'] = fuzz.trimf(humidity.universe, [0, 0, 50])\n",
        "humidity['comfortable'] = fuzz.trimf(humidity.universe, [20, 50, 80])\n",
        "humidity['high'] = fuzz.trimf(humidity.universe, [50, 100, 100])\n",
        "\n",
        "cooling_power['low'] = fuzz.trimf(cooling_power.universe, [0, 0, 50])\n",
        "cooling_power['medium'] = fuzz.trimf(cooling_power.universe, [0, 50, 100])\n",
        "cooling_power['high'] = fuzz.trimf(cooling_power.universe, [50, 100, 100])\n",
        "\n",
        "# Define fuzzy rules\n",
        "rule1 = ctrl.Rule(temperature['cold'] & humidity['low'], cooling_power['high'])\n",
        "rule2 = ctrl.Rule(temperature['cold'] & humidity['high'], cooling_power['medium'])\n",
        "rule3 = ctrl.Rule(temperature['comfortable'] & humidity['comfortable'], cooling_power['medium'])\n",
        "rule4 = ctrl.Rule(temperature['hot'] & humidity['high'], cooling_power['high'])\n",
        "rule5 = ctrl.Rule(temperature['hot'] & humidity['low'], cooling_power['low'])\n",
        "\n",
        "# Create control system\n",
        "ac_ctrl = ctrl.ControlSystem([rule1, rule2, rule3, rule4, rule5])\n",
        "ac_sim = ctrl.ControlSystemSimulation(ac_ctrl)\n",
        "\n",
        "# Define inputs\n",
        "ac_sim.input['temperature'] = 75\n",
        "ac_sim.input['humidity'] = 40\n",
        "\n",
        "# Compute the cooling power\n",
        "ac_sim.compute()\n",
        "\n",
        "# Print the result\n",
        "print(\"Cooling Power:\", ac_sim.output['cooling_power'])"
      ]
    }
  ]
}