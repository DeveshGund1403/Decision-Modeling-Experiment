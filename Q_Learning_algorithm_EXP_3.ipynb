{
  "nbformat": 4,
  "nbformat_minor": 0,
  "metadata": {
    "colab": {
      "provenance": [],
      "authorship_tag": "ABX9TyP87zON0Bb6VQ1jfyiSREkd",
      "include_colab_link": true
    },
    "kernelspec": {
      "name": "python3",
      "display_name": "Python 3"
    },
    "language_info": {
      "name": "python"
    }
  },
  "cells": [
    {
      "cell_type": "markdown",
      "metadata": {
        "id": "view-in-github",
        "colab_type": "text"
      },
      "source": [
        "<a href=\"https://colab.research.google.com/github/DeveshGund1403/Decision-Modeling-Experiment/blob/main/Q_Learning_algorithm_EXP_3.ipynb\" target=\"_parent\"><img src=\"https://colab.research.google.com/assets/colab-badge.svg\" alt=\"Open In Colab\"/></a>"
      ]
    },
    {
      "cell_type": "code",
      "execution_count": 1,
      "metadata": {
        "colab": {
          "base_uri": "https://localhost:8080/"
        },
        "id": "1EsZkWLHhj81",
        "outputId": "b7606563-59fc-4137-989b-da0411a60b5b"
      },
      "outputs": [
        {
          "output_type": "stream",
          "name": "stderr",
          "text": [
            "/usr/local/lib/python3.10/dist-packages/gym/core.py:317: DeprecationWarning: \u001b[33mWARN: Initializing wrapper in old step API which returns one bool instead of two. It is recommended to set `new_step_api=True` to use new step API. This will be the default behaviour in future.\u001b[0m\n",
            "  deprecation(\n",
            "/usr/local/lib/python3.10/dist-packages/gym/wrappers/step_api_compatibility.py:39: DeprecationWarning: \u001b[33mWARN: Initializing environment in old step API which returns one bool instead of two. It is recommended to set `new_step_api=True` to use new step API. This will be the default behaviour in future.\u001b[0m\n",
            "  deprecation(\n",
            "/usr/local/lib/python3.10/dist-packages/gym/utils/passive_env_checker.py:241: DeprecationWarning: `np.bool8` is a deprecated alias for `np.bool_`.  (Deprecated NumPy 1.24)\n",
            "  if not isinstance(terminated, (bool, np.bool8)):\n"
          ]
        },
        {
          "output_type": "stream",
          "name": "stdout",
          "text": [
            "Learned Q-table:\n",
            "[[ 0.          0.          0.          0.          0.          0.        ]\n",
            " [-2.26962582 -2.27307875 -2.27989985 -2.27356044 -2.26737441 -6.25016558]\n",
            " [-1.76451912 -1.70437375 -1.71239263 -1.70063235 -0.85354384 -3.60129787]\n",
            " ...\n",
            " [-1.19052041 -0.86398813 -1.19870789 -1.17669566 -2.83039448 -3.52791771]\n",
            " [-2.00998474 -2.01671166 -2.01158462 -2.01947185 -2.8453076  -2.829299  ]\n",
            " [-0.1        -0.1        -0.1         2.59020305 -1.         -1.        ]]\n",
            "Average Reward: -149.22\n"
          ]
        }
      ],
      "source": [
        "import numpy as np\n",
        "import gym\n",
        "\n",
        "# Create the environment\n",
        "env = gym.make('Taxi-v3')\n",
        "\n",
        "# Initialize Q-table with zeros\n",
        "Q = np.zeros([env.observation_space.n, env.action_space.n])\n",
        "\n",
        "# Set hyperparameters\n",
        "alpha = 0.1  # Learning rate\n",
        "gamma = 0.6  # Discount factor\n",
        "epsilon = 0.1  # Exploration rate\n",
        "\n",
        "# Number of episodes\n",
        "episodes = 1000\n",
        "\n",
        "# Q-Learning algorithm\n",
        "for _ in range(episodes):\n",
        "    state = env.reset()\n",
        "    done = False\n",
        "    while not done:\n",
        "        # Epsilon-greedy policy\n",
        "        if np.random.uniform(0, 1) < epsilon:\n",
        "            action = env.action_space.sample()  # Exploration\n",
        "        else:\n",
        "            action = np.argmax(Q[state])  # Exploitation\n",
        "\n",
        "        next_state, reward, done, _ = env.step(action)\n",
        "\n",
        "        # Q-value update\n",
        "        old_q_value = Q[state, action]\n",
        "        next_max = np.max(Q[next_state])\n",
        "        new_q_value = (1 - alpha) * old_q_value + alpha * (reward + gamma * next_max)\n",
        "        Q[state, action] = new_q_value\n",
        "\n",
        "        state = next_state\n",
        "\n",
        "# Print the learned Q-table\n",
        "print(\"Learned Q-table:\")\n",
        "print(Q)\n",
        "\n",
        "# Evaluate the learned policy\n",
        "total_rewards = 0\n",
        "episodes = 100\n",
        "for _ in range(episodes):\n",
        "    state = env.reset()\n",
        "    done = False\n",
        "    while not done:\n",
        "        action = np.argmax(Q[state])\n",
        "        state, reward, done, _ = env.step(action)\n",
        "        total_rewards += reward\n",
        "\n",
        "# Average reward over episodes\n",
        "average_reward = total_rewards / episodes\n",
        "print(\"Average Reward:\", average_reward)\n"
      ]
    }
  ]
}